{
  "nbformat": 4,
  "nbformat_minor": 0,
  "metadata": {
    "colab": {
      "provenance": [],
      "collapsed_sections": [
        "y3A7zaecjWIN",
        "sT7BiiQqtFeU",
        "THzwuSiilDxr"
      ],
      "toc_visible": true,
      "authorship_tag": "ABX9TyPmjqmPBvGvagUeImi/73Kp",
      "include_colab_link": true
    },
    "kernelspec": {
      "name": "python3",
      "display_name": "Python 3"
    },
    "language_info": {
      "name": "python"
    }
  },
  "cells": [
    {
      "cell_type": "markdown",
      "metadata": {
        "id": "view-in-github",
        "colab_type": "text"
      },
      "source": [
        "<a href=\"https://colab.research.google.com/github/lucas-saunitti-dev/Alura-AI-Immersion-Project/blob/main/Minute_Master.ipynb\" target=\"_parent\"><img src=\"https://colab.research.google.com/assets/colab-badge.svg\" alt=\"Open In Colab\"/></a>"
      ]
    },
    {
      "cell_type": "markdown",
      "source": [
        "###Your AI-powered meeting minutes generator that saves you time and ensures accuracy.\n",
        "\n",
        "#Never miss a detail again!"
      ],
      "metadata": {
        "id": "hFC2NpsNjeWV"
      }
    },
    {
      "cell_type": "markdown",
      "source": [
        "### Install & import"
      ],
      "metadata": {
        "id": "y3A7zaecjWIN"
      }
    },
    {
      "cell_type": "code",
      "execution_count": 1,
      "metadata": {
        "id": "ZRVd_eVgiPzQ"
      },
      "outputs": [],
      "source": [
        "!pip install -U -q google-generativeai"
      ]
    },
    {
      "cell_type": "code",
      "source": [
        "# import necessary modules.\n",
        "import requests\n",
        "from IPython.display import Markdown\n",
        "from vertexai.generative_models import (\n",
        "    GenerationConfig,\n",
        "    GenerativeModel,\n",
        "    Image,\n",
        "    Part,\n",
        ")"
      ],
      "metadata": {
        "id": "CaXADZ9sjY7J"
      },
      "execution_count": 2,
      "outputs": []
    },
    {
      "cell_type": "markdown",
      "source": [
        "### Auth with your login"
      ],
      "metadata": {
        "id": "sT7BiiQqtFeU"
      }
    },
    {
      "cell_type": "code",
      "source": [
        "import sys\n",
        "\n",
        "# Additional authentication is required for Google Colab\n",
        "if \"google.colab\" in sys.modules:\n",
        "    # Authenticate user to Google Cloud\n",
        "    from google.colab import auth\n",
        "\n",
        "    auth.authenticate_user()"
      ],
      "metadata": {
        "id": "IAgctWWzp3Cw"
      },
      "execution_count": 3,
      "outputs": []
    },
    {
      "cell_type": "markdown",
      "source": [
        "###Choosing and training the model"
      ],
      "metadata": {
        "id": "f-nT6Of5kD3S"
      }
    },
    {
      "cell_type": "code",
      "source": [
        "import vertexai\n",
        "\n",
        "PROJECT_ID = \"innate-sunset-420620\"  # @param {type:\"string\"}\n",
        "LOCATION = \"us-central1\"  # @param {type:\"string\"}\n",
        "vertexai.init(project=PROJECT_ID, location=LOCATION)\n",
        "\n",
        "\n",
        "model_name = 'gemini-1.5-pro-preview-0409' # @param {isTemplate: true}\n",
        "model = GenerativeModel(model_name)\n",
        "chat = model.start_chat(history=[])\n",
        "\n",
        "# Train\n",
        "guidelines = \"Use esse arquivo como suas diretrizes:\"\n",
        "guidelines_file = Part.from_uri(\n",
        "    uri=\"gs://lukitas-dev-storage/guidelines.txt\",\n",
        "    mime_type=\"text/plain\",\n",
        ")\n",
        "\n",
        "samples = \"Aprenda com os exemplos desse arquivo:\"\n",
        "samples_file = Part.from_uri(\n",
        "    uri=\"gs://lukitas-dev-storage/samples.txt\",\n",
        "    mime_type=\"text/plain\",\n",
        ")\n",
        "\n",
        "contents = [\n",
        "    guidelines,\n",
        "    guidelines_file,\n",
        "    samples,\n",
        "    samples_file,\n",
        "]\n",
        "chat.send_message(contents)\n",
        "\n",
        "print(\"Training finished!\")"
      ],
      "metadata": {
        "colab": {
          "base_uri": "https://localhost:8080/"
        },
        "id": "46ula8EPy5m8",
        "outputId": "bb898453-3408-4138-bb2d-0672640b6184"
      },
      "execution_count": 4,
      "outputs": [
        {
          "output_type": "stream",
          "name": "stdout",
          "text": [
            "Training finished!\n"
          ]
        }
      ]
    },
    {
      "cell_type": "markdown",
      "source": [
        "###Markdown Helper"
      ],
      "metadata": {
        "id": "THzwuSiilDxr"
      }
    },
    {
      "cell_type": "code",
      "source": [
        "# Importação de Bibliotecas\n",
        "\n",
        "import textwrap\n",
        "from IPython.display import display, Markdown\n",
        "\n",
        "# Função para converter texto em Markdown\n",
        "def to_markdown(text):\n",
        "  \"\"\"\n",
        "  Converte texto em Markdown com formatação personalizada.\n",
        "\n",
        "  Argumentos:\n",
        "    text: Texto a ser convertido.\n",
        "\n",
        "  Retorno:\n",
        "    Objeto Markdown formatado.\n",
        "  \"\"\"\n",
        "  # Substitui ponto final por espaço\n",
        "  text = text.replace('•', ' *')\n",
        "\n",
        "  # Retorna objeto Markdown\n",
        "  display(Markdown(textwrap.indent(text, '> ', predicate=lambda _: True)))"
      ],
      "metadata": {
        "id": "-rx87-y8vVaX"
      },
      "execution_count": 5,
      "outputs": []
    },
    {
      "cell_type": "markdown",
      "source": [
        "###Create a chatbot"
      ],
      "metadata": {
        "id": "H3iHoNt4sqTp"
      }
    },
    {
      "cell_type": "code",
      "source": [
        "prompt = input(\"Aguardando titulo: \")\n",
        "\n",
        "while prompt != \".\":\n",
        "    response = chat.send_message(f\"Titulo: {prompt}\")\n",
        "    to_markdown(response.text)\n",
        "\n",
        "    prompt = input(\"Aguardando titulo:\")"
      ],
      "metadata": {
        "colab": {
          "base_uri": "https://localhost:8080/",
          "height": 1000
        },
        "id": "7uEYUQQKlCqk",
        "outputId": "0ac5f5ac-79e4-43e7-8034-580762fab288"
      },
      "execution_count": 8,
      "outputs": [
        {
          "name": "stdout",
          "output_type": "stream",
          "text": [
            "Aguardando titulo: Integracao com API do cliente\n"
          ]
        },
        {
          "output_type": "display_data",
          "data": {
            "text/plain": [
              "<IPython.core.display.Markdown object>"
            ],
            "text/markdown": "> ## Exemplo 4:\n> \n> **Título:** Integração com API do cliente \n> \n> **Sugestão:** Conectando-se ao cliente:  Integração da API e otimização do fluxo de dados\n> \n> **Ações:**\n> \n> *   Entender as especificações e funcionalidades da API do cliente.\n> *   Desenvolver e implementar a integração com a API.\n> *   Testar e validar a conexão e o fluxo de dados.\n> *   Documentar o processo de integração.\n> *   Monitorar o desempenho e solucionar problemas.\n> \n> **Participantes:**\n> \n> *   Gerente de Projeto: Supervisiona o processo de integração e garante o alinhamento com os objetivos do projeto.\n> *   Desenvolvedor de software: Responsável por implementar a integração com a API.\n> *   Analista de sistemas:  Analisa as especificações da API e define os requisitos técnicos.\n> *   Especialista em API do cliente (se disponível):  Fornece insights sobre a funcionalidade da API e auxilia na solução de problemas.\n> *   Equipe de testes:  Realiza testes rigorosos para garantir a funcionalidade e estabilidade da integração.\n> \n> **Pré-requisitos:**\n> \n> *   Acesso às especificações da API do cliente.\n> *   Ambiente de desenvolvimento configurado.\n> *   Ferramentas de desenvolvimento e teste apropriadas.\n> *   Conhecimento da linguagem de programação e protocolos de API relevantes.\n> \n> **Estrutura da agenda:**\n> \n> **Introdução (5 minutos)**\n> \n> *   Objetivo da reunião e contexto do projeto. \n> *   Apresentação dos participantes e seus papéis.\n> \n> **Definição dos requisitos (15 minutos)**\n> \n> *   Revisão das especificações da API do cliente. \n> *   Identificação dos requisitos de integração e fluxo de dados.\n> *   Discussão sobre os métodos de autenticação e segurança.\n> \n> **Plano de implementação (20 minutos)**\n> \n> *   Definição da arquitetura de integração.\n> *   Estimativa de esforço e cronograma para o desenvolvimento.\n> *   Atribuição de tarefas aos membros da equipe. \n> \n> **Teste e validação (15 minutos)**\n> \n> *   Elaboração de um plano de teste abrangente.\n> *   Discussão das ferramentas e metodologias de teste. \n> *   Definição dos critérios de aceitação. \n> \n> **Documentação e monitoramento (10 minutos)**\n> \n> *   Importância da documentação do processo de integração.\n> *   Definição das métricas de desempenho para monitoramento.\n> *   Plano de ação para solução de problemas e manutenção.\n> \n> **Próximos passos e responsáveis (5 minutos)**\n> \n> *   Resumo das ações e responsabilidades. \n> *   Cronograma para as próximas etapas. \n> \n> **Tempo de duração:** 1 hora e 10 minutos\n> \n> **Observações:**\n> \n> *   Garanta uma comunicação clara e aberta com o cliente durante o processo de integração.\n> *   Priorize a segurança e a proteção de dados durante a implementação.\n> *   Documente o processo de integração para referência futura e manutenção. \n> *   Monitore o desempenho da integração e esteja preparado para solucionar problemas que possam surgir. \n"
          },
          "metadata": {}
        },
        {
          "name": "stdout",
          "output_type": "stream",
          "text": [
            "Aguardando titulo:.\n"
          ]
        }
      ]
    }
  ]
}